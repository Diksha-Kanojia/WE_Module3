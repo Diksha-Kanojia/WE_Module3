{
  "nbformat": 4,
  "nbformat_minor": 0,
  "metadata": {
    "colab": {
      "provenance": []
    },
    "kernelspec": {
      "name": "python3",
      "display_name": "Python 3"
    },
    "language_info": {
      "name": "python"
    }
  },
  "cells": [
    {
      "cell_type": "code",
      "source": [
        "from collections import deque\n",
        "\n",
        "def min_idlis_to_distribute(idlis):\n",
        "    total_additional_idlis = 0\n",
        "    n = len(idlis)\n",
        "\n",
        "    # Edge case 1: All persons already have an even number of idlis\n",
        "    if all(idli % 2 == 0 for idli in idlis):\n",
        "        return 0\n",
        "\n",
        "    # Edge case 2: All persons have odd numbers of idlis except the last one\n",
        "    if all(idli % 2 == 1 for idli in idlis[:-1]):\n",
        "        return -1\n",
        "\n",
        "    # Edge case 3: Only one person in the line\n",
        "    if n == 1:\n",
        "        return 0\n",
        "\n",
        "    # Use a queue to model the line of citizens\n",
        "    queue = deque(idlis)\n",
        "\n",
        "    # Iterate through the queue\n",
        "    while queue:\n",
        "        # Check if the current person needs additional idlis to make it even\n",
        "        idli = queue.popleft()\n",
        "        if idli % 2 != 0:\n",
        "            # If the last person needs more idlis, return -1 since it's not possible to distribute evenly\n",
        "            if not queue:\n",
        "                return -1\n",
        "            # Calculate the additional idlis needed for the current person\n",
        "            additional_idlis = 2 - (idli % 2)\n",
        "            # Distribute additional idlis to the current person and the person behind them\n",
        "            idli += additional_idlis\n",
        "            queue[0] += additional_idlis\n",
        "            # Update the total number of additional idlis needed\n",
        "            total_additional_idlis += additional_idlis\n",
        "\n",
        "    return total_additional_idlis\n",
        "\n",
        "\n"
      ],
      "metadata": {
        "id": "rKTUAW9D6Eor"
      },
      "execution_count": 7,
      "outputs": []
    },
    {
      "cell_type": "code",
      "source": [
        "# Example usage:\n",
        "\n",
        "# Edge case 1: All persons already have an even number of idlis\n",
        "idlis = [2, 2, 2, 2, 2]\n",
        "result = min_idlis_to_distribute(idlis)\n",
        "print(\"Minimum idlis to distribute:\", result)  # Output: 0\n",
        "\n",
        "# Edge case 2: All persons have odd numbers of idlis except the last one\n",
        "idlis = [1, 3, 5, 7, 9]\n",
        "result = min_idlis_to_distribute(idlis)\n",
        "print(\"Minimum idlis to distribute:\", result)  # Output: -1\n",
        "\n",
        "# Edge case 3: Only one person in the line\n",
        "idlis = [5]\n",
        "result = min_idlis_to_distribute(idlis)\n",
        "print(\"Minimum idlis to distribute:\", result)  # Output: 0\n",
        "\n",
        "# Additional edge cases:\n",
        "# Adjacent persons already have even numbers of idlis\n",
        "idlis = [2, 2, 4, 4, 6]\n",
        "result = min_idlis_to_distribute(idlis)\n",
        "print(\"Minimum idlis to distribute:\", result)  # Output: 0\n",
        "\n",
        "# All persons have odd numbers of idlis\n",
        "idlis = [1, 1, 1, 1, 1]\n",
        "result = min_idlis_to_distribute(idlis)\n",
        "print(\"Minimum idlis to distribute:\", result)  # Output: -1\n",
        "\n",
        "\n",
        "idlis = [1, 2, 3, 4, 5]\n",
        "result = min_idlis_to_distribute(idlis)\n",
        "print(\"Minimum idlis to distribute:\", result)  # Output: -1\n",
        "\n",
        "idlis = [1, 2, 3, 3, 5]\n",
        "result = min_idlis_to_distribute(idlis)\n",
        "print(\"Minimum idlis to distribute:\", result)  # Output: 3"
      ],
      "metadata": {
        "colab": {
          "base_uri": "https://localhost:8080/"
        },
        "id": "pUum57A_6MF5",
        "outputId": "f6e935ea-ebef-4f17-c74d-156543364e76"
      },
      "execution_count": 9,
      "outputs": [
        {
          "output_type": "stream",
          "name": "stdout",
          "text": [
            "Minimum idlis to distribute: 0\n",
            "Minimum idlis to distribute: -1\n",
            "Minimum idlis to distribute: -1\n",
            "Minimum idlis to distribute: 0\n",
            "Minimum idlis to distribute: -1\n",
            "Minimum idlis to distribute: -1\n",
            "Minimum idlis to distribute: 3\n"
          ]
        }
      ]
    }
  ]
}