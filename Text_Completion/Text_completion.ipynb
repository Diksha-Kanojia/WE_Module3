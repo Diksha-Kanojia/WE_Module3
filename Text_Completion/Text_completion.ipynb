{
  "nbformat": 4,
  "nbformat_minor": 0,
  "metadata": {
    "colab": {
      "provenance": []
    },
    "kernelspec": {
      "name": "python3",
      "display_name": "Python 3"
    },
    "language_info": {
      "name": "python"
    }
  },
  "cells": [
    {
      "cell_type": "code",
      "execution_count": 13,
      "metadata": {
        "id": "9kIyE_FJc4K6"
      },
      "outputs": [],
      "source": [
        "import random\n",
        "import re\n",
        "\n",
        "def preprocess_text(text):\n",
        "    if not text:\n",
        "        raise ValueError(\"Input text is empty.\")\n",
        "\n",
        "    # Tokenize the text into words\n",
        "    words = text.split()\n",
        "    # Clean the text by removing punctuation and special characters\n",
        "    clean_words = [re.sub(r'[^\\w\\s]', '', word) for word in words]\n",
        "    # Remove empty strings\n",
        "    clean_words = [word for word in clean_words if word]\n",
        "\n",
        "    if not clean_words:\n",
        "        raise ValueError(\"No valid words found in input text.\")\n",
        "\n",
        "    return clean_words\n",
        "\n",
        "def build_markov_model(words, chain_length):\n",
        "    if chain_length > len(words):\n",
        "        raise ValueError(\"Chain length is greater than the length of the text.\")\n",
        "\n",
        "    markov_model = {}\n",
        "    for i in range(len(words) - chain_length):\n",
        "        state = tuple(words[i:i + chain_length])\n",
        "        next_word = words[i + chain_length]\n",
        "        if state not in markov_model:\n",
        "            markov_model[state] = []\n",
        "        markov_model[state].append(next_word)\n",
        "    return markov_model\n",
        "\n",
        "def generate_sentence(markov_model, num_generated):\n",
        "    current_state = random.choice(list(markov_model.keys()))\n",
        "    generated_sentence = list(current_state)\n",
        "\n",
        "    while len(generated_sentence) < num_generated:\n",
        "        if current_state not in markov_model:\n",
        "            break\n",
        "        next_word = random.choice(markov_model[current_state])\n",
        "        generated_sentence.append(next_word)\n",
        "        current_state = tuple(generated_sentence[-len(current_state):])\n",
        "\n",
        "    return ' '.join(generated_sentence)\n",
        "\n",
        "\n",
        "def main(filename, chain_length, start_words, num_generated):\n",
        "    try:\n",
        "        with open(filename, 'r') as file:\n",
        "            text = file.read()\n",
        "\n",
        "        words = preprocess_text(text)\n",
        "        markov_model = build_markov_model(words, chain_length)\n",
        "        generated_sentence = generate_sentence(markov_model, num_generated)  # Remove start_words argument\n",
        "        print(generated_sentence)\n",
        "\n",
        "    except FileNotFoundError:\n",
        "        print(\"Error: File not found.\")\n",
        "\n",
        "    except ValueError as e:\n",
        "        print(f\"Error: {e}\")\n",
        "\n"
      ]
    },
    {
      "cell_type": "code",
      "source": [
        "'''sample text that was given in the file ->\n",
        "The quick brown fox jumps over the lazy dog.\n",
        "A Markov chain is a stochastic model describing a sequence of possible events in which the probability of each event depends only on the state attained in the previous event.\n",
        "It is named after the Russian mathematician Andrey Markov.\n",
        "Markov chains have many applications as statistical models of real-world processes.\n",
        "'''\n",
        "filename = 'test.txt'\n",
        "chain_length = 2\n",
        "start_words = ['The', 'quick']\n",
        "num_generated = 10\n",
        "main(filename, chain_length, start_words, num_generated)"
      ],
      "metadata": {
        "colab": {
          "base_uri": "https://localhost:8080/"
        },
        "id": "3-Fd3T4HF0nN",
        "outputId": "083a48f6-2b86-4b51-fb53-96903f47f5b9"
      },
      "execution_count": 17,
      "outputs": [
        {
          "output_type": "stream",
          "name": "stdout",
          "text": [
            "lazy dog A Markov chain is a stochastic model describing\n"
          ]
        }
      ]
    },
    {
      "cell_type": "code",
      "source": [
        "filename = 'test.txt'\n",
        "chain_length = 2\n",
        "start_words = ['The', 'quick']\n",
        "num_generated = 10\n",
        "main(filename, chain_length, start_words, num_generated)"
      ],
      "metadata": {
        "colab": {
          "base_uri": "https://localhost:8080/"
        },
        "id": "kuwiK1cSuL_M",
        "outputId": "84555935-cc0c-4e64-bc20-bc6c08b308f4"
      },
      "execution_count": 18,
      "outputs": [
        {
          "output_type": "stream",
          "name": "stdout",
          "text": [
            "each event depends only on the state attained in the\n"
          ]
        }
      ]
    },
    {
      "cell_type": "code",
      "source": [
        "filename = 'test.txt'\n",
        "chain_length = 2\n",
        "start_words = ['The', 'quick']\n",
        "num_generated = 10\n",
        "main(filename, chain_length, start_words, num_generated)"
      ],
      "metadata": {
        "colab": {
          "base_uri": "https://localhost:8080/"
        },
        "id": "M3SHT-GwuN6-",
        "outputId": "d661f985-5f44-4209-9869-b23c5e2a0aa5"
      },
      "execution_count": 19,
      "outputs": [
        {
          "output_type": "stream",
          "name": "stdout",
          "text": [
            "attained in the previous event It is named after the\n"
          ]
        }
      ]
    },
    {
      "cell_type": "code",
      "source": [
        "filename = 'test.txt'\n",
        "chain_length = 2\n",
        "start_words = ['The', 'quick']\n",
        "num_generated = 10\n",
        "main(filename, chain_length, start_words, num_generated)"
      ],
      "metadata": {
        "colab": {
          "base_uri": "https://localhost:8080/"
        },
        "id": "FEriN88tuRyk",
        "outputId": "4a0abbaa-2f2a-4346-d3a8-78fb01bd35ef"
      },
      "execution_count": 20,
      "outputs": [
        {
          "output_type": "stream",
          "name": "stdout",
          "text": [
            "over the lazy dog A Markov chain is a stochastic\n"
          ]
        }
      ]
    }
  ]
}