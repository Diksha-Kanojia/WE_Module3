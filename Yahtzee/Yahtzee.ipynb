{
  "cells": [
    {
      "cell_type": "code",
      "source": [
        "import random\n",
        "\n",
        "def roll_dice(num_dice=5):\n",
        "    \"\"\"\n",
        "    Simulate rolling dice.\n",
        "\n",
        "    Parameters:\n",
        "        num_dice (int): Number of dice to roll. Default is 5.\n",
        "\n",
        "    Returns:\n",
        "        list: List containing the values of the rolled dice.\n",
        "    \"\"\"\n",
        "    return [random.randint(1, 6) for _ in range(num_dice)]\n",
        "\n",
        "def display_dice(dice_values):\n",
        "    \"\"\"\n",
        "    Display the current dice values.\n",
        "\n",
        "    Parameters:\n",
        "        dice_values (list): List containing the values of the dice.\n",
        "    \"\"\"\n",
        "    print(\"Current dice values:\")\n",
        "    for i, value in enumerate(dice_values):\n",
        "        print(f\"Die {i+1}: {value}\")\n"
      ],
      "metadata": {
        "id": "I-YoG3WWlODx"
      },
      "execution_count": 8,
      "outputs": []
    },
    {
      "cell_type": "code",
      "source": [
        "def choose_dice_to_reroll():\n",
        "    \"\"\"\n",
        "    Allow the user to input the indices of the dice they want to reroll.\n",
        "\n",
        "    Returns:\n",
        "        list: List containing the indices of the dice to reroll (0-indexed).\n",
        "    \"\"\"\n",
        "    while True:\n",
        "        try:\n",
        "            user_input = input(\"Enter the indices of the dice you want to reroll (separated by spaces), or 'done' if you want to keep the current dice values: \")\n",
        "            if user_input.lower() == 'done':\n",
        "                return []  # Return an empty list if the user wants to keep the current dice values\n",
        "            else:\n",
        "                indices = [int(idx) - 1 for idx in user_input.split()]\n",
        "                if not all(0 <= idx <= 4 for idx in indices):\n",
        "                    raise ValueError(\"Indices must be between 1 and 5\")\n",
        "                return indices\n",
        "        except ValueError as e:\n",
        "            print(\"Invalid input. Please enter valid indices between 1 and 5.\")\n"
      ],
      "metadata": {
        "id": "0YWq-o1noMaE"
      },
      "execution_count": 14,
      "outputs": []
    },
    {
      "cell_type": "code",
      "source": [
        "def reroll_selected_dice(dice_values, indices_to_reroll):\n",
        "    \"\"\"\n",
        "    Reroll the selected dice and update their values.\n",
        "\n",
        "    Parameters:\n",
        "        dice_values (list): List containing the current values of the dice.\n",
        "        indices_to_reroll (list): List containing the indices of the dice to reroll (0-indexed).\n",
        "\n",
        "    Returns:\n",
        "        list: List containing the updated values of the dice.\n",
        "    \"\"\"\n",
        "    for idx in indices_to_reroll:\n",
        "        dice_values[idx] = random.randint(1, 6)\n",
        "    return dice_values\n"
      ],
      "metadata": {
        "id": "GqHHUCQJoN0K"
      },
      "execution_count": 11,
      "outputs": []
    },
    {
      "cell_type": "code",
      "source": [
        "def reroll_dice(dice_values):\n",
        "    \"\"\"\n",
        "    Allow the user to choose which dice to reroll, reroll them, and display the combined result.\n",
        "\n",
        "    Parameters:\n",
        "        dice_values (list): List containing the current values of the dice.\n",
        "\n",
        "    Returns:\n",
        "        list: List containing the updated values of the dice after rerolling.\n",
        "    \"\"\"\n",
        "    indices_to_reroll = choose_dice_to_reroll()\n",
        "    if indices_to_reroll:\n",
        "        new_dice_values = reroll_selected_dice(dice_values, indices_to_reroll)\n",
        "        combined_dice_values = [new_dice_values[i] if i in indices_to_reroll else dice_values[i] for i in range(len(dice_values))]\n",
        "        print(\"Combined dice values after reroll:\", combined_dice_values)\n",
        "        return combined_dice_values\n",
        "    else:\n",
        "        print(\"Keeping current dice values.\")\n",
        "        return dice_values\n"
      ],
      "metadata": {
        "id": "X5Ts92hmoU4-"
      },
      "execution_count": 10,
      "outputs": []
    },
    {
      "cell_type": "code",
      "source": [
        "def calculate_score(dice_values):\n",
        "    \"\"\"\n",
        "    Calculate the score for all categories based on the current dice values.\n",
        "\n",
        "    Parameters:\n",
        "        dice_values (list): List containing the current values of the dice.\n",
        "\n",
        "    Returns:\n",
        "        dict: Dictionary containing the score for each category.\n",
        "    \"\"\"\n",
        "    score = {}\n",
        "\n",
        "    # Upper section (Ones to Sixes)\n",
        "    for i in range(1, 7):\n",
        "        score[f\"{i}s\"] = sum(dice for dice in dice_values if dice == i)\n",
        "\n",
        "    # Three of a kind\n",
        "    if any(dice_values.count(dice) >= 3 for dice in dice_values):\n",
        "        score[\"Three of a Kind\"] = sum(dice_values)\n",
        "    else:\n",
        "        score[\"Three of a Kind\"] = 0\n",
        "\n",
        "    # Four of a kind\n",
        "    if any(dice_values.count(dice) >= 4 for dice in dice_values):\n",
        "        score[\"Four of a Kind\"] = sum(dice_values)\n",
        "    else:\n",
        "        score[\"Four of a Kind\"] = 0\n",
        "\n",
        "    # Full House\n",
        "    if len(set(dice_values)) == 2 and any(dice_values.count(dice) == 3 for dice in set(dice_values)):\n",
        "        score[\"Full House\"] = 25\n",
        "    else:\n",
        "        score[\"Full House\"] = 0\n",
        "\n",
        "    # Small Straight\n",
        "    if {1, 2, 3, 4}.issubset(set(dice_values)) or {2, 3, 4, 5}.issubset(set(dice_values)) or {3, 4, 5, 6}.issubset(set(dice_values)):\n",
        "        score[\"Small Straight\"] = 30\n",
        "    else:\n",
        "        score[\"Small Straight\"] = 0\n",
        "\n",
        "    # Large Straight\n",
        "    if {1, 2, 3, 4, 5} == set(dice_values) or {2, 3, 4, 5, 6} == set(dice_values):\n",
        "        score[\"Large Straight\"] = 40\n",
        "    else:\n",
        "        score[\"Large Straight\"] = 0\n",
        "\n",
        "    # Yahtzee\n",
        "    if dice_values.count(dice_values[0]) == 5:\n",
        "        score[\"Yahtzee\"] = 50\n",
        "    else:\n",
        "        score[\"Yahtzee\"] = 0\n",
        "\n",
        "    # Chance\n",
        "    score[\"Chance\"] = sum(dice_values)\n",
        "\n",
        "    return score\n"
      ],
      "metadata": {
        "id": "Xoe_lXQOo1oP"
      },
      "execution_count": 12,
      "outputs": []
    },
    {
      "cell_type": "code",
      "source": [
        "def main():\n",
        "    print(\"Welcome to Yahtzee!\")\n",
        "\n",
        "    # Roll the initial set of dice\n",
        "    print(\"\\nFirst roll:\")\n",
        "    dice_values = roll_dice()\n",
        "    display_dice(dice_values)\n",
        "\n",
        "    # reroll\n",
        "    for _ in range(2):\n",
        "        reroll_choice = input(\"\\nWould you like to reroll any dice? (yes/no): \").lower()\n",
        "        if reroll_choice == 'yes':\n",
        "            dice_values = reroll_dice(dice_values)\n",
        "            display_dice(dice_values)\n",
        "        else:\n",
        "            break\n",
        "\n",
        "\n",
        "    # Calculate the final score\n",
        "    score = calculate_score(dice_values)\n",
        "    print(\"\\nFinal score:\")\n",
        "    for category, category_score in score.items():\n",
        "        print(f\"{category}: {category_score}\")\n",
        "\n",
        "\n",
        "if __name__ == \"__main__\":\n",
        "    main()\n"
      ],
      "metadata": {
        "colab": {
          "base_uri": "https://localhost:8080/"
        },
        "id": "wxEJG2QkqCsv",
        "outputId": "c3d63549-ed6b-4d53-c0bb-60ab05c1086d"
      },
      "execution_count": 20,
      "outputs": [
        {
          "output_type": "stream",
          "name": "stdout",
          "text": [
            "Welcome to Yahtzee!\n",
            "\n",
            "First roll:\n",
            "Current dice values:\n",
            "Die 1: 6\n",
            "Die 2: 4\n",
            "Die 3: 3\n",
            "Die 4: 5\n",
            "Die 5: 4\n",
            "\n",
            "Would you like to reroll any dice? (yes/no): yes\n",
            "Enter the indices of the dice you want to reroll (separated by spaces), or 'done' if you want to keep the current dice values: 3 4 \n",
            "Combined dice values after reroll: [6, 4, 6, 4, 4]\n",
            "Current dice values:\n",
            "Die 1: 6\n",
            "Die 2: 4\n",
            "Die 3: 6\n",
            "Die 4: 4\n",
            "Die 5: 4\n",
            "\n",
            "Would you like to reroll any dice? (yes/no): no\n",
            "\n",
            "Final score:\n",
            "1s: 0\n",
            "2s: 0\n",
            "3s: 0\n",
            "4s: 12\n",
            "5s: 0\n",
            "6s: 12\n",
            "Three of a Kind: 24\n",
            "Four of a Kind: 0\n",
            "Full House: 25\n",
            "Small Straight: 0\n",
            "Large Straight: 0\n",
            "Yahtzee: 0\n",
            "Chance: 24\n"
          ]
        }
      ]
    },
    {
      "cell_type": "code",
      "source": [
        "if __name__ == \"__main__\":\n",
        "    main()\n",
        "\n"
      ],
      "metadata": {
        "colab": {
          "base_uri": "https://localhost:8080/"
        },
        "id": "10oL-hcCr-FY",
        "outputId": "43f9f1b4-21f5-4214-f7b4-1341e6fbf355"
      },
      "execution_count": 17,
      "outputs": [
        {
          "output_type": "stream",
          "name": "stdout",
          "text": [
            "Welcome to Yahtzee!\n",
            "\n",
            "First roll:\n",
            "Current dice values:\n",
            "Die 1: 6\n",
            "Die 2: 6\n",
            "Die 3: 2\n",
            "Die 4: 2\n",
            "Die 5: 2\n",
            "\n",
            "Would you like to reroll any dice? (yes/no): no\n",
            "\n",
            "Final score:\n",
            "1s: 0\n",
            "2s: 6\n",
            "3s: 0\n",
            "4s: 0\n",
            "5s: 0\n",
            "6s: 12\n",
            "Three of a Kind: 18\n",
            "Four of a Kind: 0\n",
            "Full House: 25\n",
            "Small Straight: 0\n",
            "Large Straight: 0\n",
            "Yahtzee: 0\n",
            "Chance: 18\n"
          ]
        }
      ]
    },
    {
      "cell_type": "code",
      "source": [
        "if __name__ == \"__main__\":\n",
        "    main()"
      ],
      "metadata": {
        "colab": {
          "base_uri": "https://localhost:8080/"
        },
        "id": "BVPu-GkssHTW",
        "outputId": "a1d86f92-fc90-4e28-f853-f6f9684bc1f6"
      },
      "execution_count": 21,
      "outputs": [
        {
          "output_type": "stream",
          "name": "stdout",
          "text": [
            "Welcome to Yahtzee!\n",
            "\n",
            "First roll:\n",
            "Current dice values:\n",
            "Die 1: 3\n",
            "Die 2: 6\n",
            "Die 3: 3\n",
            "Die 4: 6\n",
            "Die 5: 3\n",
            "\n",
            "Would you like to reroll any dice? (yes/no): yes\n",
            "Enter the indices of the dice you want to reroll (separated by spaces), or 'done' if you want to keep the current dice values: 1 3 5 \n",
            "Combined dice values after reroll: [5, 6, 5, 6, 3]\n",
            "Current dice values:\n",
            "Die 1: 5\n",
            "Die 2: 6\n",
            "Die 3: 5\n",
            "Die 4: 6\n",
            "Die 5: 3\n",
            "\n",
            "Would you like to reroll any dice? (yes/no): yes\n",
            "Enter the indices of the dice you want to reroll (separated by spaces), or 'done' if you want to keep the current dice values: 5 \n",
            "Combined dice values after reroll: [5, 6, 5, 6, 6]\n",
            "Current dice values:\n",
            "Die 1: 5\n",
            "Die 2: 6\n",
            "Die 3: 5\n",
            "Die 4: 6\n",
            "Die 5: 6\n",
            "\n",
            "Final score:\n",
            "1s: 0\n",
            "2s: 0\n",
            "3s: 0\n",
            "4s: 0\n",
            "5s: 10\n",
            "6s: 18\n",
            "Three of a Kind: 28\n",
            "Four of a Kind: 0\n",
            "Full House: 25\n",
            "Small Straight: 0\n",
            "Large Straight: 0\n",
            "Yahtzee: 0\n",
            "Chance: 28\n"
          ]
        }
      ]
    }
  ],
  "metadata": {
    "colab": {
      "provenance": []
    },
    "kernelspec": {
      "display_name": "Python 3",
      "name": "python3"
    },
    "language_info": {
      "name": "python"
    }
  },
  "nbformat": 4,
  "nbformat_minor": 0
}