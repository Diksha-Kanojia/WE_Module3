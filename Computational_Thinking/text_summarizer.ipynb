{
  "nbformat": 4,
  "nbformat_minor": 0,
  "metadata": {
    "colab": {
      "provenance": []
    },
    "kernelspec": {
      "name": "python3",
      "display_name": "Python 3"
    },
    "language_info": {
      "name": "python"
    }
  },
  "cells": [
    {
      "cell_type": "code",
      "execution_count": null,
      "metadata": {
        "id": "hHQs2xvUZyTC"
      },
      "outputs": [],
      "source": [
        "from nltk.tokenize import sent_tokenize\n",
        "from collections import Counter\n",
        "\n",
        "def preprocess_text(text):\n",
        "    # Tokenize the text into sentences\n",
        "    sentences = sent_tokenize(text)\n",
        "    return sentences\n",
        "\n",
        "def extractive_summarization(sentences, summary_length=3):\n",
        "    # Implement a simple extractive summarization by selecting the top sentences based on frequency of occurrence\n",
        "    word_counts = Counter()\n",
        "    for sentence in sentences:\n",
        "        word_counts.update(sentence.lower().split())\n",
        "\n",
        "    summary = [sentence for sentence in sentences if any(word_counts[word] > 1 for word in sentence.lower().split())][:summary_length]\n",
        "    return summary\n",
        "\n",
        "def aggregate_summaries(summaries):\n",
        "    # Aggregate the summaries using a voting mechanism\n",
        "    summary_votes = Counter()\n",
        "    for summary in summaries:\n",
        "        summary_votes.update(summary)\n",
        "\n",
        "    aggregated_summary = summary_votes.most_common(3)  # Select the top 3 sentences as the aggregated summary\n",
        "    return [sentence for sentence, _ in aggregated_summary]\n",
        "\n",
        "# Example usage\n",
        "texts = [\n",
        "    \"Text 1 to summarize. This text contains important information about topic A.\",\n",
        "    \"Text 2 to summarize. It discusses various aspects of topic B.\",\n",
        "    \"Text 3 to summarize. This text provides insights into topic C.\"\n",
        "]\n",
        "\n",
        "# Preprocess each text\n",
        "preprocessed_texts = [preprocess_text(text) for text in texts]\n",
        "\n",
        "# Generate summaries for each text\n",
        "summaries = [extractive_summarization(sentences) for sentences in preprocessed_texts]\n",
        "\n",
        "# Aggregate the summaries\n",
        "aggregated_summary = aggregate_summaries(summaries)\n",
        "\n",
        "print(\"Aggregated Summary:\")\n",
        "for sentence in aggregated_summary:\n",
        "    print(sentence)\n"
      ]
    },
    {
      "cell_type": "code",
      "source": [
        "from rouge import Rouge\n",
        "\n",
        "# Example reference and generated summaries\n",
        "reference_summaries = [\"Reference summary 1\", \"Reference summary 2\", \"Reference summary 3\"]\n",
        "generated_summaries = [\"Generated summary 1\", \"Generated summary 2\", \"Generated summary 3\"]\n",
        "\n",
        "# Initialize ROUGE\n",
        "rouge = Rouge()\n",
        "\n",
        "# Compute ROUGE scores\n",
        "scores = rouge.get_scores(generated_summaries, reference_summaries, avg=True)\n",
        "\n",
        "print(\"ROUGE Scores:\")\n",
        "print(scores)\n"
      ],
      "metadata": {
        "id": "aP8fOhPtZ2uA"
      },
      "execution_count": null,
      "outputs": []
    }
  ]
}